{
 "cells": [
  {
   "cell_type": "markdown",
   "metadata": {},
   "source": [
    "### Zahid - a computational implementation of the Theory of Mind model.  "
   ]
  },
  {
   "cell_type": "markdown",
   "metadata": {},
   "source": [
    "The objective of this software program is to evaluate a false belief task in the \"Sally-Anne test\" as described by the figure below."
   ]
  },
  {
   "cell_type": "code",
   "execution_count": 1,
   "metadata": {},
   "outputs": [],
   "source": [
    "from IPython.display import Image\n",
    "Image('ToM test.png')"
   ]
  },
  {
   "cell_type": "markdown",
   "metadata": {},
   "source": [
    "Input data for this computational system is defined by text files simulating camera systems and mental subsystems.\n",
    "\n",
    "#### entities.txt:  \n",
    "This file simulates a camera input identifying a scene.  \n",
    "The camera system identifies:  \n",
    "- a list of entities in the scene.  \n",
    "- if the entity is an agent.  \n",
    "The column t specifies the time step for the camera information.  "
   ]
  },
  {
   "cell_type": "code",
   "execution_count": 2,
   "metadata": {},
   "outputs": [
    {
     "name": "stdout",
     "output_type": "stream",
     "text": [
      " t  Entity  Is_Agent\n",
      " 1   Sally      True\n",
      " 1    Anne      True\n",
      " 1  Basket     False\n",
      " 1     Box     False\n",
      " 1    Ball     False\n",
      " 2   Sally      True\n",
      " 2    Anne      True\n",
      " 2  Basket     False\n",
      " 2     Box     False\n",
      " 2    Ball     False\n",
      " 3   Sally      True\n",
      " 3    Anne      True\n",
      " 3  Basket     False\n",
      " 3     Box     False\n",
      " 3    Ball     False\n",
      " 4    Anne      True\n",
      " 4  Basket     False\n",
      " 4     Box     False\n",
      " 5    Anne      True\n",
      " 5  Basket     False\n"
     ]
    }
   ],
   "source": [
    "import pandas as pd\n",
    "entities_df = pd.read_csv('input/entities.txt',\n",
    "                          delim_whitespace=True,\n",
    "                          comment='#')\n",
    "print(entities_df.head(20).to_string(index=False))"
   ]
  },
  {
   "cell_type": "markdown",
   "metadata": {},
   "source": [
    "#### eyedirection.txt\n",
    "This file simulates a visual system capable of identifying eye direction.\n",
    "The information is provided in the form\n",
    "t Agent Object where:\n",
    "t is the simulation time step\n",
    "Agent is agent name\n",
    "Object is the entity the agent is looking at."
   ]
  },
  {
   "cell_type": "code",
   "execution_count": 3,
   "metadata": {},
   "outputs": [
    {
     "name": "stdout",
     "output_type": "stream",
     "text": [
      " t  Agent  Object\n",
      " 1  Sally    Anne\n",
      " 1  Sally  Basket\n",
      " 1  Sally     Box\n",
      " 1  Sally    Ball\n",
      " 1   Anne   Sally\n",
      " 1   Anne  Basket\n",
      " 1   Anne     Box\n",
      " 1   Anne    Ball\n",
      " 2  Sally    Anne\n",
      " 2  Sally  Basket\n",
      " 2  Sally     Box\n",
      " 2  Sally    Ball\n",
      " 2   Anne   Sally\n",
      " 2   Anne    Ball\n",
      " 2   Anne  Basket\n",
      " 2   Anne     Box\n",
      " 3  Sally    Anne\n",
      " 3  Sally  Basket\n",
      " 3  Sally     Box\n",
      " 3  Sally    Ball\n"
     ]
    }
   ],
   "source": [
    "import pandas as pd\n",
    "eye_dir_df = pd.read_csv('input/eye_directions.txt',\n",
    "                         delim_whitespace=True,\n",
    "                         comment='#')\n",
    "print(eye_dir_df.head(20).to_string(index=False))"
   ]
  },
  {
   "cell_type": "markdown",
   "metadata": {},
   "source": [
    "#### affordances.txt:  \n",
    "Affordances are an entity's properties that show the possible actions users can take with it.</br>\n",
    "For example, a Box may contain other objects, and a Ball may be hidden.</br>\n",
    "Affordances, for the purpose of this system, are immutable properties during the simulation timeline."
   ]
  },
  {
   "cell_type": "code",
   "execution_count": 4,
   "metadata": {},
   "outputs": [
    {
     "name": "stdout",
     "output_type": "stream",
     "text": [
      " Object Affordance\n",
      "    Box   Contains\n",
      " Basket   Contains\n",
      "   Ball      Hides\n",
      "   Anne     Exists\n",
      "  Sally     Exists\n"
     ]
    }
   ],
   "source": [
    "import pandas as pd\n",
    "afford_df = pd.read_csv('input/affordances.txt',\n",
    "                        delim_whitespace=True,\n",
    "                        comment='#')\n",
    "print(afford_df.to_string(index=False))"
   ]
  },
  {
   "cell_type": "markdown",
   "metadata": {},
   "source": [
    "#### intentions.txt:\n",
    "This file simulates a camera input identifying a scene.\n",
    "The camera system identifies the intention of an agent\n",
    "based on movement and posture information in the scene.\n",
    "The column t specifies the time step for the camera information."
   ]
  },
  {
   "cell_type": "code",
   "execution_count": 5,
   "metadata": {},
   "outputs": [
    {
     "name": "stdout",
     "output_type": "stream",
     "text": [
      " t  Agent Intention  Object  Target\n",
      " 1  Sally      None    None    None\n",
      " 1   Anne      None    None    None\n",
      " 2  Sally  ReachFor    Ball    None\n",
      " 2   Anne      None    None    None\n",
      " 3  Sally      Puts    Ball  Basket\n",
      " 3   Anne      None    None    None\n",
      " 4  Sally     Exits    None    None\n",
      " 4   Anne      None    None    None\n",
      " 5   Anne  ReachFor  Basket    None\n",
      " 6   Anne      Gets    Ball  Basket\n",
      " 7   Anne      Puts    Ball     Box\n",
      " 8   Anne     Exits    None    None\n",
      " 8  Sally    Enters    None    None\n",
      " 9  Sally    Search    Ball    None\n"
     ]
    }
   ],
   "source": [
    "import pandas as pd\n",
    "intention_df = pd.read_csv('input/intentions.txt',\n",
    "                           delim_whitespace=True,\n",
    "                           comment='#')\n",
    "print(intention_df.to_string(index=False))"
   ]
  },
  {
   "cell_type": "markdown",
   "metadata": {},
   "source": [
    "The simulation has been split to mind steps according to the detection of intentions in the environment. Each of the mind steps has been documented to file scenes.txt:"
   ]
  },
  {
   "cell_type": "code",
   "execution_count": 6,
   "metadata": {},
   "outputs": [
    {
     "name": "stdout",
     "output_type": "stream",
     "text": [
      " t                                              Scene\n",
      " 1  Sally and Anne are in the room. Basket, box an...\n",
      " 2                       Sally reaches for the ball. \n",
      " 3                 Sally puts the ball in the basket.\n",
      " 4                              Sally exits the room.\n",
      " 5                       Anne reaches for the basket.\n",
      " 6                Anne gets the ball from the basket.\n",
      " 7                     Anne puts the ball in the box.\n",
      " 8             Anne exits the room, and Sally enters.\n",
      " 9           Sally searches for the ball in the room.\n"
     ]
    }
   ],
   "source": [
    "import pandas as pd\n",
    "scene_df = pd.read_csv('input/scenes.txt',\n",
    "                       sep = ':',\n",
    "                       comment = '#')\n",
    "print(scene_df.to_string(index=False))"
   ]
  },
  {
   "cell_type": "markdown",
   "metadata": {},
   "source": [
    "#### System execution\n",
    "Pleae see below for the system executing step-by-step the simulation."
   ]
  },
  {
   "cell_type": "code",
   "execution_count": null,
   "metadata": {},
   "outputs": [
    {
     "name": "stdout",
     "output_type": "stream",
     "text": [
      "Zahid - a computational implementation of the Theory of Mind model\n",
      "\n",
      "Starting simulation. Mind Steps = 9\n",
      "Hello, I am Zahid.\n",
      "\n",
      "This is the list of commands I understand.\n",
      "To ask me about people: 'p'\n",
      "To ask me about objects: 'o'\n",
      "To go to the next mind step: 'enter'\n",
      "To quit the simulation: 'q'\n",
      "\n",
      "This is mind step 1.\n",
      "Scene 1: Sally and Anne are in the room. Basket, box and ball are on the floor.\n",
      "Enter command: p\n",
      "About what person you want to know about?\n",
      "{'Anne', 'Sally'}\n",
      "Sally\n",
      "\n",
      "Sally Believes Anne Exists\n",
      "Sally Believes Ball Hides\n",
      "Sally Believes Basket Contains\n",
      "Sally Believes Box Contains\n",
      "\n",
      "Enter command: \n",
      "\n",
      "This is mind step 2.\n",
      "Scene 2: Sally reaches for the ball. \n",
      "Enter command: p\n",
      "About what person you want to know about?\n",
      "{'Anne', 'Sally'}\n",
      "Sally\n",
      "\n",
      "Sally Believes Anne Exists\n",
      "Sally Believes Ball OnHand Of Sally\n",
      "Sally Believes Basket Contains\n",
      "Sally Believes Box Contains\n",
      "\n",
      "Enter command: \n",
      "\n",
      "This is mind step 3.\n",
      "Scene 3: Sally puts the ball in the basket.\n",
      "Enter command: p\n",
      "About what person you want to know about?\n",
      "{'Anne', 'Sally'}\n",
      "Sally\n",
      "\n",
      "Sally Believes Anne Exists\n",
      "Sally Believes Ball HiddenIn Basket\n",
      "Sally Believes Basket Contains\n",
      "Sally Believes Box Contains\n",
      "\n"
     ]
    }
   ],
   "source": [
    "%run zahid.py"
   ]
  },
  {
   "cell_type": "code",
   "execution_count": null,
   "metadata": {},
   "outputs": [],
   "source": []
  }
 ],
 "metadata": {
  "kernelspec": {
   "display_name": "Python 3",
   "language": "python",
   "name": "python3"
  },
  "language_info": {
   "codemirror_mode": {
    "name": "ipython",
    "version": 3
   },
   "file_extension": ".py",
   "mimetype": "text/x-python",
   "name": "python",
   "nbconvert_exporter": "python",
   "pygments_lexer": "ipython3",
   "version": "3.7.3"
  }
 },
 "nbformat": 4,
 "nbformat_minor": 2
}
