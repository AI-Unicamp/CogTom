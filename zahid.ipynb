{
 "cells": [
  {
   "cell_type": "code",
   "execution_count": 3,
   "metadata": {},
   "outputs": [
    {
     "name": "stdout",
     "output_type": "stream",
     "text": "Zahid - a computational implementation of the Theory of Mind model.\nThe intent of this software program is to evaluate false belief tasks.\n"
    }
   ],
   "source": [
    "print(\"Zahid - a computational implementation of the Theory of Mind model.\")\n",
    "print(\"The intent of this software program is to evaluate false belief tasks.\")"
   ]
  },
  {
   "cell_type": "code",
   "execution_count": 8,
   "metadata": {},
   "outputs": [
    {
     "name": "stdout",
     "output_type": "stream",
     "text": "Input data for this computational system:\nentities.txt:\nThis file simulates a camera input identifying a scene.\nThe camera system identifies:\n- a list of entities in the scene.\n- if the entity is an agent.\nThe column t specifies the time step for the camera information.\n"
    }
   ],
   "source": [
    "print(\"Input data for this computational system:\")\n",
    "print(\"entities.txt:\")\n",
    "print(\"This file simulates a camera input identifying a scene.\")\n",
    "print(\"The camera system identifies:\")\n",
    "print(\"- a list of entities in the scene.\")\n",
    "print(\"- if the entity is an agent.\")\n",
    "print(\"The column t specifies the time step for the camera information.\")"
   ]
  },
  {
   "cell_type": "code",
   "execution_count": 9,
   "metadata": {},
   "outputs": [
    {
     "name": "stdout",
     "output_type": "stream",
     "text": "t  Entity  Is_Agent\n0   1   Sally      True\n1   1    Anne      True\n2   1  Basket     False\n3   1     Box     False\n4   1    Ball     False\n5   2   Sally      True\n6   2    Anne      True\n7   2  Basket     False\n8   2     Box     False\n9   2    Ball     False\n10  3   Sally      True\n11  3    Anne      True\n12  3  Basket     False\n13  3     Box     False\n14  3    Ball     False\n15  4    Anne      True\n16  4  Basket     False\n17  4     Box     False\n18  5    Anne      True\n19  5  Basket     False\n20  5     Box     False\n21  6    Anne      True\n22  6  Basket     False\n23  6     Box     False\n24  6    Ball     False\n25  7    Anne      True\n26  7  Basket     False\n27  7     Box     False\n28  8   Sally      True\n29  8  Basket     False\n30  8     Box     False\n31  9   Sally      True\n32  9  Basket     False\n33  9     Box     False\n"
    }
   ],
   "source": [
    "import pandas as pd\n",
    "entities_df = pd.read_csv('input/entities.txt',\n",
    "                          delim_whitespace=True,\n",
    "                          comment='#')\n",
    "print(entities_df)"
   ]
  },
  {
   "cell_type": "code",
   "execution_count": null,
   "metadata": {},
   "outputs": [],
   "source": []
  }
 ],
 "metadata": {
  "kernelspec": {
   "display_name": "Python 3",
   "language": "python",
   "name": "python3"
  },
  "language_info": {
   "codemirror_mode": {
    "name": "ipython",
    "version": 3
   },
   "file_extension": ".py",
   "mimetype": "text/x-python",
   "name": "python",
   "nbconvert_exporter": "python",
   "pygments_lexer": "ipython3",
   "version": "3.7.3"
  }
 },
 "nbformat": 4,
 "nbformat_minor": 2
}
