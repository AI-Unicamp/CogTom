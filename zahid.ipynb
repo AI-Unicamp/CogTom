{
 "cells": [
  {
   "cell_type": "code",
   "execution_count": 1,
   "metadata": {
    "scrolled": true
   },
   "outputs": [
    {
     "name": "stdout",
     "output_type": "stream",
     "text": [
      "    t  Entity  Is_Moving   Drive Drive-Object Drive-Target\n",
      "0   1   Sally       True    None         None         None\n",
      "1   1    Anne       True    None         None         None\n",
      "2   1  Basket      False    None         None         None\n",
      "3   1     Box      False    None         None         None\n",
      "4   2   Sally       True    Hide         Ball       Basket\n",
      "5   2    Anne       True    None         None         None\n",
      "6   2  Basket      False    None         None         None\n",
      "7   2     Box      False    None         None         None\n",
      "8   2    Ball      False    None         None         None\n",
      "9   3    Anne       True    None         None         None\n",
      "10  3  Basket      False    None         None         None\n",
      "11  3     Box      False    None         None         None\n",
      "12  4    Anne       True     Get         Ball       Basket\n",
      "13  4  Basket      False    None         None         None\n",
      "14  4     Box      False    None         None         None\n",
      "15  4    Ball      False    None         None         None\n",
      "16  5    Anne       True    Hide         Ball          Box\n",
      "17  5  Basket      False    None         None         None\n",
      "18  5     Box      False    None         None         None\n",
      "19  5    Ball      False    None         None         None\n",
      "20  6   Sally       True  Search         Ball         None\n",
      "21  6     Box      False    None         None         None\n",
      "22  6  Basket      False    None         None         None\n"
     ]
    }
   ],
   "source": [
    "import pandas as pd\n",
    "visual_df = pd.read_csv('input/visual.txt',\n",
    "                        delim_whitespace=True,\n",
    "                        comment='#')\n",
    "print(visual_df)"
   ]
  },
  {
   "cell_type": "code",
   "execution_count": null,
   "metadata": {},
   "outputs": [],
   "source": []
  }
 ],
 "metadata": {
  "kernelspec": {
   "display_name": "Python 3",
   "language": "python",
   "name": "python3"
  },
  "language_info": {
   "codemirror_mode": {
    "name": "ipython",
    "version": 3
   },
   "file_extension": ".py",
   "mimetype": "text/x-python",
   "name": "python",
   "nbconvert_exporter": "python",
   "pygments_lexer": "ipython3",
   "version": "3.7.3"
  }
 },
 "nbformat": 4,
 "nbformat_minor": 2
}
